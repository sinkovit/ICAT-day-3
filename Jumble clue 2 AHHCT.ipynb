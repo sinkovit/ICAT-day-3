{
 "cells": [
  {
   "cell_type": "markdown",
   "metadata": {},
   "source": [
    "# Jumble clue 2: AHHCT"
   ]
  },
  {
   "cell_type": "markdown",
   "metadata": {},
   "source": [
    "Picking up where we left off with the first Jumble clue, we'll see if we can pare down the 120 permutations into something more reasonable."
   ]
  },
  {
   "cell_type": "code",
   "execution_count": null,
   "metadata": {},
   "outputs": [],
   "source": [
    "from itertools import permutations"
   ]
  },
  {
   "cell_type": "markdown",
   "metadata": {},
   "source": [
    "Unlike the first clue (PAKLN), we're going to save all the permutations into a list."
   ]
  },
  {
   "cell_type": "code",
   "execution_count": null,
   "metadata": {},
   "outputs": [],
   "source": [
    "# Generate all possible orderings of letters in word\n",
    "word = 'AHHCT'\n",
    "anagrams = []\n",
    "for p in permutations(word):\n",
    "    w = ''.join(p)\n",
    "    anagrams.append(w)"
   ]
  },
  {
   "cell_type": "code",
   "execution_count": null,
   "metadata": {},
   "outputs": [],
   "source": [
    "for i,w in enumerate(anagrams):\n",
    "    print(i, w)"
   ]
  },
  {
   "cell_type": "markdown",
   "metadata": {},
   "source": [
    "The letter H appears twice in AHHCT, but the `permutation` function doesn't know that they're the same letter. In fact, it doesn't know anything about the items in a list except their position. In the above output, AHCTH appears as permutations 3 and 9.\n",
    "\n",
    "We'll convert our list to a set to get rid of duplicates and then convert back into a list."
   ]
  },
  {
   "cell_type": "code",
   "execution_count": null,
   "metadata": {},
   "outputs": [],
   "source": [
    "# Reduce to unique orderings\n",
    "anagrams = list(set(anagrams))"
   ]
  },
  {
   "cell_type": "code",
   "execution_count": null,
   "metadata": {},
   "outputs": [],
   "source": [
    "for i,w in enumerate(anagrams):\n",
    "    print(i, w)"
   ]
  },
  {
   "cell_type": "markdown",
   "metadata": {},
   "source": [
    "We made a great start and reduced our list from 120 items to 60. Using what we know about English words, we can further reduce the list\n",
    "\n",
    "+ The double letter combination never occurs\n",
    "+ There are no words where HHCT appear continuously, in any ordering, without an intervening vowel. Since we have only one A, it cannot appear at the start or end of word."
   ]
  },
  {
   "cell_type": "code",
   "execution_count": null,
   "metadata": {},
   "outputs": [],
   "source": [
    "counter = 0\n",
    "for w in anagrams:\n",
    "    if 'HH' in w:\n",
    "        continue\n",
    "    elif w[0] == 'A' or w[-1] == 'A':\n",
    "        continue\n",
    "    else:\n",
    "        print(counter, w)\n",
    "        counter += 1"
   ]
  },
  {
   "cell_type": "code",
   "execution_count": null,
   "metadata": {},
   "outputs": [],
   "source": []
  }
 ],
 "metadata": {
  "kernelspec": {
   "display_name": "Python 3",
   "language": "python",
   "name": "python3"
  },
  "language_info": {
   "codemirror_mode": {
    "name": "ipython",
    "version": 3
   },
   "file_extension": ".py",
   "mimetype": "text/x-python",
   "name": "python",
   "nbconvert_exporter": "python",
   "pygments_lexer": "ipython3",
   "version": "3.6.4"
  }
 },
 "nbformat": 4,
 "nbformat_minor": 2
}
