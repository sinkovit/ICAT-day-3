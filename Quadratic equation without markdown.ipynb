{
 "cells": [
  {
   "cell_type": "markdown",
   "metadata": {},
   "source": [
    "How to solve the quadratic equation"
   ]
  },
  {
   "cell_type": "markdown",
   "metadata": {},
   "source": [
    "The quadratic equation has the form ax^2 + bx + c = 0. It can have zero, one or two real solutions depending on the value of the discriminant b^2 - 4ac"
   ]
  },
  {
   "cell_type": "markdown",
   "metadata": {},
   "source": [
    "Case one: two real solutions"
   ]
  },
  {
   "cell_type": "markdown",
   "metadata": {},
   "source": [
    "The discriminant is positive and greater than zero, giving us two real solutions\n",
    "\n",
    "x1 = (-b + sqrt(b^2 - 4ac))/4ac\n",
    "\n",
    "x2 = (-b - sqrt(b^2 - 4ac))/4ac"
   ]
  },
  {
   "cell_type": "code",
   "execution_count": null,
   "metadata": {},
   "outputs": [],
   "source": [
    "import numpy as np"
   ]
  },
  {
   "cell_type": "code",
   "execution_count": null,
   "metadata": {},
   "outputs": [],
   "source": [
    "a = 1.0\n",
    "b = 5.0\n",
    "c = 2.0\n",
    "x1 = (-b + np.sqrt(b*b - 4*a*c))/(4*a*c)\n",
    "x2 = (-b - np.sqrt(b*b - 4*a*c))/(4*a*c)\n",
    "print('solution 1 =', x1)\n",
    "print('solution 2 =', x2)"
   ]
  },
  {
   "cell_type": "markdown",
   "metadata": {},
   "source": [
    "Case two: one real solutions"
   ]
  },
  {
   "cell_type": "markdown",
   "metadata": {},
   "source": [
    "The discriminant is equal to zero and we only have one real solution\n",
    "\n",
    "\n",
    "x1 = -b/4ac"
   ]
  },
  {
   "cell_type": "code",
   "execution_count": null,
   "metadata": {},
   "outputs": [],
   "source": [
    "a = 4\n",
    "b = 4\n",
    "c = 1\n",
    "x1 = (-b + np.sqrt(b*b - 4*a*c))/(4*a*c)\n",
    "x2 = (-b - np.sqrt(b*b - 4*a*c))/(4*a*c)\n",
    "print('solution 1 =', x1)\n",
    "print('solution 2 =', x2)"
   ]
  },
  {
   "cell_type": "markdown",
   "metadata": {},
   "source": [
    "Case three: no real solutions"
   ]
  },
  {
   "cell_type": "markdown",
   "metadata": {},
   "source": [
    "The discriminant is less than zero and there are no real solutions"
   ]
  },
  {
   "cell_type": "code",
   "execution_count": null,
   "metadata": {},
   "outputs": [],
   "source": [
    "# Executing this cell will produce an error\n",
    "a = 4\n",
    "b = 4\n",
    "c = 4\n",
    "x1 = (-b + np.sqrt(b*b - 4*a*c))/(4*a*c)\n",
    "x2 = (-b - np.sqrt(b*b - 4*a*c))/(4*a*c)\n",
    "print('solution 1 =', x1)\n",
    "print('solution 2 =', x2)"
   ]
  }
 ],
 "metadata": {
  "kernelspec": {
   "display_name": "Python 3",
   "language": "python",
   "name": "python3"
  },
  "language_info": {
   "codemirror_mode": {
    "name": "ipython",
    "version": 3
   },
   "file_extension": ".py",
   "mimetype": "text/x-python",
   "name": "python",
   "nbconvert_exporter": "python",
   "pygments_lexer": "ipython3",
   "version": "3.6.4"
  }
 },
 "nbformat": 4,
 "nbformat_minor": 2
}
