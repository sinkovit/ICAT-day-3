{
 "cells": [
  {
   "cell_type": "markdown",
   "metadata": {},
   "source": [
    "# Jumble clue exercise"
   ]
  },
  {
   "cell_type": "markdown",
   "metadata": {},
   "source": [
    "Starting with our *smarter* notebook for AHHCT, see if you reduce the number of possibilities that must be considered for\n",
    "\n",
    "+ PAKLN\n",
    "+ FEONDF\n",
    "\n",
    "We've retained the code that will get rid of duplicates when letters are repeated, but you'll need to think about additional rules. For example, are there letter combinations that we know will never occur in English. For example\n",
    "\n",
    "+ No English words start with LK (relevant for PAKLN)\n",
    "+ No English words end with DF (relevant for FEONDF)\n",
    "\n",
    "Use as many `elif` clauses as you like"
   ]
  },
  {
   "cell_type": "code",
   "execution_count": null,
   "metadata": {},
   "outputs": [],
   "source": [
    "from itertools import permutations"
   ]
  },
  {
   "cell_type": "code",
   "execution_count": null,
   "metadata": {},
   "outputs": [],
   "source": [
    "word = 'PAKLN'\n",
    "#word = 'FEONDF'"
   ]
  },
  {
   "cell_type": "markdown",
   "metadata": {},
   "source": [
    "Unlike the first clue (PAKLN), we're going to save all the permutations into a list."
   ]
  },
  {
   "cell_type": "code",
   "execution_count": null,
   "metadata": {},
   "outputs": [],
   "source": [
    "# Generate all possible orderings of letters in word\n",
    "anagrams = []\n",
    "for p in permutations(word):\n",
    "    w = ''.join(p)\n",
    "    anagrams.append(w)"
   ]
  },
  {
   "cell_type": "code",
   "execution_count": null,
   "metadata": {},
   "outputs": [],
   "source": [
    "for i,w in enumerate(anagrams):\n",
    "    print(i, w)"
   ]
  },
  {
   "cell_type": "code",
   "execution_count": null,
   "metadata": {},
   "outputs": [],
   "source": [
    "# Reduce to unique orderings\n",
    "anagrams = list(set(anagrams))"
   ]
  },
  {
   "cell_type": "code",
   "execution_count": null,
   "metadata": {},
   "outputs": [],
   "source": [
    "for i,w in enumerate(anagrams):\n",
    "    print(i, w)"
   ]
  },
  {
   "cell_type": "markdown",
   "metadata": {},
   "source": [
    "## This is where your work begins"
   ]
  },
  {
   "cell_type": "markdown",
   "metadata": {},
   "source": [
    "The existing code is specific for AHHCT. Try to implement rules that work for the second (PAKLN) and third (FEONDF) clues in the Jumble."
   ]
  },
  {
   "cell_type": "code",
   "execution_count": null,
   "metadata": {},
   "outputs": [],
   "source": [
    "counter = 0\n",
    "for w in anagrams:\n",
    "    if 'HH' in w:\n",
    "        continue\n",
    "    elif w[0] == 'A' or w[-1] == 'A':\n",
    "        continue\n",
    "    else:\n",
    "        print(counter, w)\n",
    "        counter += 1"
   ]
  },
  {
   "cell_type": "code",
   "execution_count": null,
   "metadata": {},
   "outputs": [],
   "source": []
  }
 ],
 "metadata": {
  "kernelspec": {
   "display_name": "Python 3",
   "language": "python",
   "name": "python3"
  },
  "language_info": {
   "codemirror_mode": {
    "name": "ipython",
    "version": 3
   },
   "file_extension": ".py",
   "mimetype": "text/x-python",
   "name": "python",
   "nbconvert_exporter": "python",
   "pygments_lexer": "ipython3",
   "version": "3.6.4"
  }
 },
 "nbformat": 4,
 "nbformat_minor": 2
}
