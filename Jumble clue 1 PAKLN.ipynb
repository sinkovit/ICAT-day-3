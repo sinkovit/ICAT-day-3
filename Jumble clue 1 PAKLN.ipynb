{
 "cells": [
  {
   "cell_type": "markdown",
   "metadata": {},
   "source": [
    "# Jumble clue 1: PAKLN"
   ]
  },
  {
   "cell_type": "markdown",
   "metadata": {},
   "source": [
    "This probably isn't the way you would go about unscrambling PAKLN in the first clue of the Jumble puzzle, but a mehodical approach is to generate all 120 permutations of the letters and search for English words.\n",
    "\n",
    "We'll utilize the `permutations` function from the `itertools` package to generate the possibilities and the `join()` method to glue the letters back into words.\n",
    "\n",
    "When we get to the second Jumble clue, we'll implement a few more rules to reduce the output to something more manageable."
   ]
  },
  {
   "cell_type": "code",
   "execution_count": null,
   "metadata": {},
   "outputs": [],
   "source": [
    "from itertools import permutations"
   ]
  },
  {
   "cell_type": "code",
   "execution_count": null,
   "metadata": {},
   "outputs": [],
   "source": [
    "# Generate all possible orderings of letters in word\n",
    "word = 'PAKLN'\n",
    "for p in permutations(word):\n",
    "    w = ''.join(p)\n",
    "    print(w)"
   ]
  }
 ],
 "metadata": {
  "kernelspec": {
   "display_name": "Python 3",
   "language": "python",
   "name": "python3"
  },
  "language_info": {
   "codemirror_mode": {
    "name": "ipython",
    "version": 3
   },
   "file_extension": ".py",
   "mimetype": "text/x-python",
   "name": "python",
   "nbconvert_exporter": "python",
   "pygments_lexer": "ipython3",
   "version": "3.6.4"
  }
 },
 "nbformat": 4,
 "nbformat_minor": 2
}
